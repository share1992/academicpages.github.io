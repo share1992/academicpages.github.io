{
 "cells": [
  {
   "cell_type": "markdown",
   "metadata": {},
   "source": [
    "# Talks markdown generator for academicpages\n",
    "\n",
    "Takes a TSV of talks with metadata and converts them for use with [academicpages.github.io](academicpages.github.io). This is an interactive Jupyter notebook ([see more info here](http://jupyter-notebook-beginner-guide.readthedocs.io/en/latest/what_is_jupyter.html)). The core python code is also in `talks.py`. Run either from the `markdown_generator` folder after replacing `talks.tsv` with one containing your data.\n",
    "\n",
    "TODO: Make this work with BibTex and other databases, rather than Stuart's non-standard TSV format and citation style."
   ]
  },
  {
   "cell_type": "code",
   "execution_count": 1,
   "metadata": {},
   "outputs": [],
   "source": [
    "import pandas as pd\n",
    "import os"
   ]
  },
  {
   "cell_type": "markdown",
   "metadata": {},
   "source": [
    "## Data format\n",
    "\n",
    "The TSV needs to have the following columns: title, type, url_slug, venue, date, location, talk_url, description, with a header at the top. Many of these fields can be blank, but the columns must be in the TSV.\n",
    "\n",
    "- Fields that cannot be blank: `title`, `url_slug`, `date`. All else can be blank. `type` defaults to \"Talk\" \n",
    "- `date` must be formatted as YYYY-MM-DD.\n",
    "- `url_slug` will be the descriptive part of the .md file and the permalink URL for the page about the paper. \n",
    "    - The .md file will be `YYYY-MM-DD-[url_slug].md` and the permalink will be `https://[yourdomain]/talks/YYYY-MM-DD-[url_slug]`\n",
    "    - The combination of `url_slug` and `date` must be unique, as it will be the basis for your filenames\n",
    "\n",
    "This is how the raw file looks (it doesn't look pretty, use a spreadsheet or other program to edit and create)."
   ]
  },
  {
   "cell_type": "code",
   "execution_count": 2,
   "metadata": {},
   "outputs": [
    {
     "name": "stdout",
     "output_type": "stream",
     "text": [
      "title\ttype\turl_slug\tvenue\tdate\tlocation\ttalk_url\tdescription\r",
      "\r\n",
      "Effects of Electrostatics on Silica Oligomerization\tTalk\ttalk-1\tVirtual\t01/11/2020\tVirtual\t\t\r",
      "\r\n",
      "Dimensionality Reduction of Reaction Coordinates and Trajectories\tTalk\ttalk-2\tUniversity of Bristol\t01/09/2019\t\"Bristol, UK\"\t\t\r",
      "\r\n",
      "Dimensionality Reduction of Pathways Generated from Interactive Molecular Dynamics\tPoster\tposter-1\tCECAM Workshop: Learning the Collective Variables of Biomolecular Processes\t01/07/2019\t\"Paris, France\"\t\t\r",
      "\r\n",
      "Dimensionality Reduction of Chemical Reaction Pathways\tTalk\ttalk-3\tPhysical Organic Gordon Research Conference (GRC\t01/06/2019\t\"Holderness, NH\"\t\t\r",
      "\r\n",
      "Dimensionality Reduction of Chemical Reaction Pathways\tPoster\tposter-2\tPhysical Organic Gordon Research Seminar (GRS) and Conference (GRC)\t01/06/2019\t\"Holderness, NH\"\t\t\r",
      "\r\n",
      "Dimensionality Reduction of Chemical Reaction Pathways\tPoster\tposter-3\tApplied Mathematics: The Next 50 Years, University of Washington\t01/06/2019\t\"Seattle, WA\"\t\t\r",
      "\r\n",
      "Dimensionality Reduction of Reaction Coordinates and Trajectories\tTalk\ttalk-4\tSpring ACS National Meeting & Exposition\t01/03/2019\t\"Orlando, FL\"\t\t\r",
      "\r\n",
      "Women Chemists Committee (WCC) Science of Sexual Harassment Symposium\tSymposium\tsymposium-1\tSpring ACS National Meeting & Exposition\t01/03/2018\t\"New Orleans, LA\"\t\t\r",
      "\r\n",
      "Pummerer-Like Rearrangement: Effects of Solvent on a Post-Transition State Bifurcation\tTalk\ttalk-5\tSpring ACS National Meeting & Exposition\t01/03/2018\t\"New Orleans, LA\"\t\t\r",
      "\r\n"
     ]
    }
   ],
   "source": [
    "!cat talks.tsv"
   ]
  },
  {
   "cell_type": "markdown",
   "metadata": {},
   "source": [
    "## Import TSV\n",
    "\n",
    "Pandas makes this easy with the read_csv function. We are using a TSV, so we specify the separator as a tab, or `\\t`.\n",
    "\n",
    "I found it important to put this data in a tab-separated values format, because there are a lot of commas in this kind of data and comma-separated values can get messed up. However, you can modify the import statement, as pandas also has read_excel(), read_json(), and others."
   ]
  },
  {
   "cell_type": "code",
   "execution_count": 3,
   "metadata": {},
   "outputs": [
    {
     "data": {
      "text/html": [
       "<div>\n",
       "<style scoped>\n",
       "    .dataframe tbody tr th:only-of-type {\n",
       "        vertical-align: middle;\n",
       "    }\n",
       "\n",
       "    .dataframe tbody tr th {\n",
       "        vertical-align: top;\n",
       "    }\n",
       "\n",
       "    .dataframe thead th {\n",
       "        text-align: right;\n",
       "    }\n",
       "</style>\n",
       "<table border=\"1\" class=\"dataframe\">\n",
       "  <thead>\n",
       "    <tr style=\"text-align: right;\">\n",
       "      <th></th>\n",
       "      <th>title</th>\n",
       "      <th>type</th>\n",
       "      <th>url_slug</th>\n",
       "      <th>venue</th>\n",
       "      <th>date</th>\n",
       "      <th>location</th>\n",
       "      <th>talk_url</th>\n",
       "      <th>description</th>\n",
       "    </tr>\n",
       "  </thead>\n",
       "  <tbody>\n",
       "    <tr>\n",
       "      <th>0</th>\n",
       "      <td>Effects of Electrostatics on Silica Oligomeriz...</td>\n",
       "      <td>Talk</td>\n",
       "      <td>talk-1</td>\n",
       "      <td>Virtual</td>\n",
       "      <td>01/11/2020</td>\n",
       "      <td>Virtual</td>\n",
       "      <td>NaN</td>\n",
       "      <td>NaN</td>\n",
       "    </tr>\n",
       "    <tr>\n",
       "      <th>1</th>\n",
       "      <td>Dimensionality Reduction of Reaction Coordinat...</td>\n",
       "      <td>Talk</td>\n",
       "      <td>talk-2</td>\n",
       "      <td>University of Bristol</td>\n",
       "      <td>01/09/2019</td>\n",
       "      <td>Bristol, UK</td>\n",
       "      <td>NaN</td>\n",
       "      <td>NaN</td>\n",
       "    </tr>\n",
       "    <tr>\n",
       "      <th>2</th>\n",
       "      <td>Dimensionality Reduction of Pathways Generated...</td>\n",
       "      <td>Poster</td>\n",
       "      <td>poster-1</td>\n",
       "      <td>CECAM Workshop: Learning the Collective Variab...</td>\n",
       "      <td>01/07/2019</td>\n",
       "      <td>Paris, France</td>\n",
       "      <td>NaN</td>\n",
       "      <td>NaN</td>\n",
       "    </tr>\n",
       "    <tr>\n",
       "      <th>3</th>\n",
       "      <td>Dimensionality Reduction of Chemical Reaction ...</td>\n",
       "      <td>Talk</td>\n",
       "      <td>talk-3</td>\n",
       "      <td>Physical Organic Gordon Research Conference (GRC</td>\n",
       "      <td>01/06/2019</td>\n",
       "      <td>Holderness, NH</td>\n",
       "      <td>NaN</td>\n",
       "      <td>NaN</td>\n",
       "    </tr>\n",
       "    <tr>\n",
       "      <th>4</th>\n",
       "      <td>Dimensionality Reduction of Chemical Reaction ...</td>\n",
       "      <td>Poster</td>\n",
       "      <td>poster-2</td>\n",
       "      <td>Physical Organic Gordon Research Seminar (GRS)...</td>\n",
       "      <td>01/06/2019</td>\n",
       "      <td>Holderness, NH</td>\n",
       "      <td>NaN</td>\n",
       "      <td>NaN</td>\n",
       "    </tr>\n",
       "    <tr>\n",
       "      <th>5</th>\n",
       "      <td>Dimensionality Reduction of Chemical Reaction ...</td>\n",
       "      <td>Poster</td>\n",
       "      <td>poster-3</td>\n",
       "      <td>Applied Mathematics: The Next 50 Years, Univer...</td>\n",
       "      <td>01/06/2019</td>\n",
       "      <td>Seattle, WA</td>\n",
       "      <td>NaN</td>\n",
       "      <td>NaN</td>\n",
       "    </tr>\n",
       "    <tr>\n",
       "      <th>6</th>\n",
       "      <td>Dimensionality Reduction of Reaction Coordinat...</td>\n",
       "      <td>Talk</td>\n",
       "      <td>talk-4</td>\n",
       "      <td>Spring ACS National Meeting &amp; Exposition</td>\n",
       "      <td>01/03/2019</td>\n",
       "      <td>Orlando, FL</td>\n",
       "      <td>NaN</td>\n",
       "      <td>NaN</td>\n",
       "    </tr>\n",
       "    <tr>\n",
       "      <th>7</th>\n",
       "      <td>Women Chemists Committee (WCC) Science of Sexu...</td>\n",
       "      <td>Symposium</td>\n",
       "      <td>symposium-1</td>\n",
       "      <td>Spring ACS National Meeting &amp; Exposition</td>\n",
       "      <td>01/03/2018</td>\n",
       "      <td>New Orleans, LA</td>\n",
       "      <td>NaN</td>\n",
       "      <td>NaN</td>\n",
       "    </tr>\n",
       "    <tr>\n",
       "      <th>8</th>\n",
       "      <td>Pummerer-Like Rearrangement: Effects of Solven...</td>\n",
       "      <td>Talk</td>\n",
       "      <td>talk-5</td>\n",
       "      <td>Spring ACS National Meeting &amp; Exposition</td>\n",
       "      <td>01/03/2018</td>\n",
       "      <td>New Orleans, LA</td>\n",
       "      <td>NaN</td>\n",
       "      <td>NaN</td>\n",
       "    </tr>\n",
       "  </tbody>\n",
       "</table>\n",
       "</div>"
      ],
      "text/plain": [
       "                                               title       type     url_slug  \\\n",
       "0  Effects of Electrostatics on Silica Oligomeriz...       Talk       talk-1   \n",
       "1  Dimensionality Reduction of Reaction Coordinat...       Talk       talk-2   \n",
       "2  Dimensionality Reduction of Pathways Generated...     Poster     poster-1   \n",
       "3  Dimensionality Reduction of Chemical Reaction ...       Talk       talk-3   \n",
       "4  Dimensionality Reduction of Chemical Reaction ...     Poster     poster-2   \n",
       "5  Dimensionality Reduction of Chemical Reaction ...     Poster     poster-3   \n",
       "6  Dimensionality Reduction of Reaction Coordinat...       Talk       talk-4   \n",
       "7  Women Chemists Committee (WCC) Science of Sexu...  Symposium  symposium-1   \n",
       "8  Pummerer-Like Rearrangement: Effects of Solven...       Talk       talk-5   \n",
       "\n",
       "                                               venue        date  \\\n",
       "0                                            Virtual  01/11/2020   \n",
       "1                              University of Bristol  01/09/2019   \n",
       "2  CECAM Workshop: Learning the Collective Variab...  01/07/2019   \n",
       "3   Physical Organic Gordon Research Conference (GRC  01/06/2019   \n",
       "4  Physical Organic Gordon Research Seminar (GRS)...  01/06/2019   \n",
       "5  Applied Mathematics: The Next 50 Years, Univer...  01/06/2019   \n",
       "6           Spring ACS National Meeting & Exposition  01/03/2019   \n",
       "7           Spring ACS National Meeting & Exposition  01/03/2018   \n",
       "8           Spring ACS National Meeting & Exposition  01/03/2018   \n",
       "\n",
       "          location  talk_url  description  \n",
       "0          Virtual       NaN          NaN  \n",
       "1      Bristol, UK       NaN          NaN  \n",
       "2    Paris, France       NaN          NaN  \n",
       "3   Holderness, NH       NaN          NaN  \n",
       "4   Holderness, NH       NaN          NaN  \n",
       "5      Seattle, WA       NaN          NaN  \n",
       "6      Orlando, FL       NaN          NaN  \n",
       "7  New Orleans, LA       NaN          NaN  \n",
       "8  New Orleans, LA       NaN          NaN  "
      ]
     },
     "execution_count": 3,
     "metadata": {},
     "output_type": "execute_result"
    }
   ],
   "source": [
    "talks = pd.read_csv(\"talks.tsv\", sep=\"\\t\", header=0)\n",
    "talks"
   ]
  },
  {
   "cell_type": "markdown",
   "metadata": {},
   "source": [
    "## Escape special characters\n",
    "\n",
    "YAML is very picky about how it takes a valid string, so we are replacing single and double quotes (and ampersands) with their HTML encoded equivilents. This makes them look not so readable in raw format, but they are parsed and rendered nicely."
   ]
  },
  {
   "cell_type": "code",
   "execution_count": 4,
   "metadata": {},
   "outputs": [],
   "source": [
    "html_escape_table = {\n",
    "    \"&\": \"&amp;\",\n",
    "    '\"': \"&quot;\",\n",
    "    \"'\": \"&apos;\"\n",
    "    }\n",
    "\n",
    "def html_escape(text):\n",
    "    if type(text) is str:\n",
    "        return \"\".join(html_escape_table.get(c,c) for c in text)\n",
    "    else:\n",
    "        return \"False\""
   ]
  },
  {
   "cell_type": "markdown",
   "metadata": {},
   "source": [
    "## Creating the markdown files\n",
    "\n",
    "This is where the heavy lifting is done. This loops through all the rows in the TSV dataframe, then starts to concatentate a big string (```md```) that contains the markdown for each type. It does the YAML metadata first, then does the description for the individual page."
   ]
  },
  {
   "cell_type": "code",
   "execution_count": 5,
   "metadata": {},
   "outputs": [],
   "source": [
    "loc_dict = {}\n",
    "\n",
    "for row, item in talks.iterrows():\n",
    "    \n",
    "    md_filename = str(item.date) + \"-\" + item.url_slug + \".md\"\n",
    "    html_filename = str(item.date) + \"-\" + item.url_slug \n",
    "    year = item.date[:4]\n",
    "    \n",
    "    md = \"---\\ntitle: \\\"\"   + item.title + '\"\\n'\n",
    "    md += \"collection: talks\" + \"\\n\"\n",
    "    \n",
    "    if len(str(item.type)) > 3:\n",
    "        md += 'type: \"' + item.type + '\"\\n'\n",
    "    else:\n",
    "        md += 'type: \"Talk\"\\n'\n",
    "    \n",
    "    md += \"permalink: /talks/\" + html_filename + \"\\n\"\n",
    "    \n",
    "    if len(str(item.venue)) > 3:\n",
    "        md += 'venue: \"' + item.venue + '\"\\n'\n",
    "        \n",
    "    if len(str(item.location)) > 3:\n",
    "        md += \"date: \" + str(item.date) + \"\\n\"\n",
    "    \n",
    "    if len(str(item.location)) > 3:\n",
    "        md += 'location: \"' + str(item.location) + '\"\\n'\n",
    "           \n",
    "    md += \"---\\n\"\n",
    "    \n",
    "    \n",
    "    if len(str(item.talk_url)) > 3:\n",
    "        md += \"\\n[More information here](\" + item.talk_url + \")\\n\" \n",
    "        \n",
    "    \n",
    "    if len(str(item.description)) > 3:\n",
    "        md += \"\\n\" + html_escape(item.description) + \"\\n\"\n",
    "        \n",
    "        \n",
    "    md_filename = os.path.basename(md_filename)\n",
    "    #print(md)\n",
    "    \n",
    "    with open(\"../_talks/\" + md_filename, 'w') as f:\n",
    "        f.write(md)"
   ]
  },
  {
   "cell_type": "markdown",
   "metadata": {},
   "source": [
    "These files are in the talks directory, one directory below where we're working from."
   ]
  },
  {
   "cell_type": "code",
   "execution_count": 6,
   "metadata": {},
   "outputs": [
    {
     "name": "stdout",
     "output_type": "stream",
     "text": [
      "2012-03-01-talk-1.md     2018-talk-5.md           2019-talk-3.md\r\n",
      "2013-03-01-tutorial-1.md 2019-poster-1.md         2019-talk-4.md\r\n",
      "2014-02-01-talk-2.md     2019-poster-2.md         2020-talk-1.md\r\n",
      "2014-03-01-talk-3.md     2019-poster-3.md\r\n",
      "2018-symposium-1.md      2019-talk-2.md\r\n"
     ]
    }
   ],
   "source": [
    "!ls ../_talks"
   ]
  },
  {
   "cell_type": "code",
   "execution_count": 8,
   "metadata": {},
   "outputs": [
    {
     "name": "stdout",
     "output_type": "stream",
     "text": [
      "---\r\n",
      "title: \"Pummerer-Like Rearrangement: Effects of Solvent on a Post-Transition State Bifurcation\"\r\n",
      "collection: talks\r\n",
      "type: \"Talk\"\r\n",
      "permalink: /talks/01/03/2018-talk-5\r\n",
      "venue: \"Spring ACS National Meeting & Exposition\"\r\n",
      "date: 01/03/2018\r\n",
      "location: \"New Orleans, LA\"\r\n",
      "---\r\n"
     ]
    }
   ],
   "source": [
    "!cat ../_talks/2018-talk-5.md"
   ]
  },
  {
   "cell_type": "code",
   "execution_count": null,
   "metadata": {},
   "outputs": [],
   "source": []
  }
 ],
 "metadata": {
  "kernelspec": {
   "display_name": "Python 3",
   "language": "python",
   "name": "python3"
  },
  "language_info": {
   "codemirror_mode": {
    "name": "ipython",
    "version": 3
   },
   "file_extension": ".py",
   "mimetype": "text/x-python",
   "name": "python",
   "nbconvert_exporter": "python",
   "pygments_lexer": "ipython3",
   "version": "3.7.7"
  }
 },
 "nbformat": 4,
 "nbformat_minor": 1
}
